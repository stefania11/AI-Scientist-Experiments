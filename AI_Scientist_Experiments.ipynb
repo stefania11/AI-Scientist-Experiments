{
 "cells": [
  {
   "cell_type": "markdown",
   "id": "c8ba312a",
   "metadata": {},
   "source": [
    "# AI-Scientist Experiments\n",
    "This notebook provides a step-by-step guide to running experiments with the AI-Scientist project.\n",
    "\n",
    "## Setup\n",
    "First, let's set up our environment and clone the repository."
   ]
  },
  {
   "cell_type": "code",
   "execution_count": null,
   "id": "586badd7",
   "metadata": {},
   "outputs": [],
   "source": [
    "# Install required packages\n",
    "!pip install openai anthropic numpy torch matplotlib\n",
    "\n",
    "# Clone the repository\n",
    "!git clone https://github.com/SakanaAI/AI-Scientist.git\n",
    "%cd AI-Scientist"
   ]
  },
  {
   "cell_type": "markdown",
   "id": "a82656fa",
   "metadata": {},
   "source": [
    "## Environment Configuration\n",
    "Set up your API keys. Replace the placeholders with your actual keys."
   ]
  },
  {
   "cell_type": "code",
   "execution_count": null,
   "id": "5b8412aa",
   "metadata": {},
   "outputs": [],
   "source": [
    "import os\n",
    "\n",
    "# Set API keys\n",
    "os.environ['OPENAI_API_KEY'] = 'your_openai_key_here'\n",
    "os.environ['ANTHROPIC_API_KEY'] = 'your_anthropic_key_here'"
   ]
  },
  {
   "cell_type": "markdown",
   "id": "5404d533",
   "metadata": {},
   "source": [
    "## Create New Idea JSON\n",
    "Create a new idea JSON file with your experiment details."
   ]
  },
  {
   "cell_type": "code",
   "execution_count": null,
   "id": "b38ae397",
   "metadata": {},
   "outputs": [],
   "source": [
    "import json\n",
    "\n",
    "# Define your new idea\n",
    "new_idea = {\n",
    "    \"idea\": \"AI-driven optimization of renewable energy sources\",\n",
    "    \"Name\": \"renewable_energy_optimization\",\n",
    "    \"Title\": \"AI-Driven Optimization of Renewable Energy Sources\",\n",
    "    \"Experiment\": \"Implement AI model to analyze energy resource allocation\",\n",
    "    \"Interestingness\": 8,\n",
    "    \"Feasibility\": 7,\n",
    "    \"Novelty\": 6,\n",
    "    \"novel\": True\n",
    "}\n",
    "\n",
    "# Create ideas directory if it doesn't exist\n",
    "!mkdir -p templates/nanoGPT_lite/ideas\n",
    "\n",
    "# Save the idea to a JSON file\n",
    "with open('templates/nanoGPT_lite/ideas/new_idea.json', 'w') as f:\n",
    "    json.dump(new_idea, f, indent=2)\n",
    "\n",
    "# Verify the file contents\n",
    "!cat templates/nanoGPT_lite/ideas/new_idea.json"
   ]
  },
  {
   "cell_type": "markdown",
   "id": "a8ea4a24",
   "metadata": {},
   "source": [
    "## Run the Experiment\n",
    "Now let's run the experiment with our new idea."
   ]
  },
  {
   "cell_type": "code",
   "execution_count": null,
   "id": "5dbf08c0",
   "metadata": {},
   "outputs": [],
   "source": [
    "# Run the experiment\n",
    "!python launch_scientist.py \\\n",
    "    --idea templates/nanoGPT_lite/ideas/new_idea.json \\\n",
    "    --model gpt-4o-2024-05-13 \\\n",
    "    --device cpu \\\n",
    "    --batch-size 32"
   ]
  },
  {
   "cell_type": "markdown",
   "id": "fee8be15",
   "metadata": {},
   "source": [
    "## Monitor Progress\n",
    "Let's check the training progress and results."
   ]
  },
  {
   "cell_type": "code",
   "execution_count": null,
   "id": "e9ab062b",
   "metadata": {},
   "outputs": [],
   "source": [
    "import matplotlib.pyplot as plt\n",
    "import json\n",
    "\n",
    "# Load final info\n",
    "with open('final_info.json', 'r') as f:\n",
    "    results = json.load(f)\n",
    "\n",
    "# Plot training progress\n",
    "plt.figure(figsize=(10, 6))\n",
    "plt.plot(results['training_loss'], label='Training Loss')\n",
    "plt.plot(results['validation_loss'], label='Validation Loss')\n",
    "plt.xlabel('Iteration')\n",
    "plt.ylabel('Loss')\n",
    "plt.title('Training Progress')\n",
    "plt.legend()\n",
    "plt.show()\n",
    "\n",
    "# Print performance metrics\n",
    "print(f\"Training time: {results['training_time']:.2f}s\")\n",
    "print(f\"Inference speed: {results['inference_speed']:.2f} tokens/s\")"
   ]
  },
  {
   "cell_type": "markdown",
   "id": "5d430e09",
   "metadata": {},
   "source": [
    "## Compare with Baseline\n",
    "Compare your results with the baseline performance:\n",
    "- Baseline training time: 243.34s\n",
    "- Baseline inference speed: 89.88 tokens/s\n",
    "- Baseline training loss: 2.574\n",
    "- Baseline validation loss: 2.574"
   ]
  },
  {
   "cell_type": "code",
   "execution_count": null,
   "id": "0c0ea000",
   "metadata": {},
   "outputs": [],
   "source": [
    "# Calculate improvement percentages\n",
    "training_time_improvement = ((243.34 - results['training_time']) / 243.34) * 100\n",
    "inference_speed_improvement = ((results['inference_speed'] - 89.88) / 89.88) * 100\n",
    "\n",
    "print(f\"Training time improvement: {training_time_improvement:.2f}%\")\n",
    "print(f\"Inference speed improvement: {inference_speed_improvement:.2f}%\")"
   ]
  }
 ],
 "metadata": {},
 "nbformat": 4,
 "nbformat_minor": 5
}
